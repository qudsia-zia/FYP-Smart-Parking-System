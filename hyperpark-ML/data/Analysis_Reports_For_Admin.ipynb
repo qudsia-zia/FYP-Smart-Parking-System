{
 "cells": [
  {
   "cell_type": "code",
   "execution_count": 1,
   "id": "914d8c66",
   "metadata": {},
   "outputs": [],
   "source": [
    "import numpy as np\n",
    "import pandas as pd"
   ]
  },
  {
   "cell_type": "code",
   "execution_count": 2,
   "id": "d1f98c80",
   "metadata": {},
   "outputs": [],
   "source": [
    "import matplotlib.pylab as plt"
   ]
  },
  {
   "cell_type": "code",
   "execution_count": 3,
   "id": "83a410d2",
   "metadata": {},
   "outputs": [
    {
     "data": {
      "text/html": [
       "<div>\n",
       "<style scoped>\n",
       "    .dataframe tbody tr th:only-of-type {\n",
       "        vertical-align: middle;\n",
       "    }\n",
       "\n",
       "    .dataframe tbody tr th {\n",
       "        vertical-align: top;\n",
       "    }\n",
       "\n",
       "    .dataframe thead th {\n",
       "        text-align: right;\n",
       "    }\n",
       "</style>\n",
       "<table border=\"1\" class=\"dataframe\">\n",
       "  <thead>\n",
       "    <tr style=\"text-align: right;\">\n",
       "      <th></th>\n",
       "      <th>Date</th>\n",
       "      <th>Entry Time</th>\n",
       "      <th>Exit Time</th>\n",
       "      <th>Slot No</th>\n",
       "      <th>Status</th>\n",
       "      <th>week_num</th>\n",
       "      <th>Month</th>\n",
       "      <th>Hour</th>\n",
       "    </tr>\n",
       "  </thead>\n",
       "  <tbody>\n",
       "    <tr>\n",
       "      <th>0</th>\n",
       "      <td>25/06/2021</td>\n",
       "      <td>9:38:55 PM</td>\n",
       "      <td>10:39:00 PM</td>\n",
       "      <td>3</td>\n",
       "      <td>Not Available</td>\n",
       "      <td>26</td>\n",
       "      <td>6</td>\n",
       "      <td>21</td>\n",
       "    </tr>\n",
       "    <tr>\n",
       "      <th>1</th>\n",
       "      <td>25/06/2021</td>\n",
       "      <td>9:40:55 PM</td>\n",
       "      <td>12:39:02 AM</td>\n",
       "      <td>5</td>\n",
       "      <td>Not Available</td>\n",
       "      <td>26</td>\n",
       "      <td>6</td>\n",
       "      <td>21</td>\n",
       "    </tr>\n",
       "    <tr>\n",
       "      <th>2</th>\n",
       "      <td>25/06/2021</td>\n",
       "      <td>10:40:55 PM</td>\n",
       "      <td>12:44:35 AM</td>\n",
       "      <td>3</td>\n",
       "      <td>Not Available</td>\n",
       "      <td>26</td>\n",
       "      <td>6</td>\n",
       "      <td>22</td>\n",
       "    </tr>\n",
       "    <tr>\n",
       "      <th>3</th>\n",
       "      <td>25/06/2021</td>\n",
       "      <td>7:44:29 PM</td>\n",
       "      <td>12:44:35 AM</td>\n",
       "      <td>3</td>\n",
       "      <td>Not Available</td>\n",
       "      <td>26</td>\n",
       "      <td>6</td>\n",
       "      <td>19</td>\n",
       "    </tr>\n",
       "    <tr>\n",
       "      <th>4</th>\n",
       "      <td>25/06/2021</td>\n",
       "      <td>7:48:32 PM</td>\n",
       "      <td>12:44:38 AM</td>\n",
       "      <td>5</td>\n",
       "      <td>Not Available</td>\n",
       "      <td>26</td>\n",
       "      <td>6</td>\n",
       "      <td>19</td>\n",
       "    </tr>\n",
       "  </tbody>\n",
       "</table>\n",
       "</div>"
      ],
      "text/plain": [
       "         Date   Entry Time    Exit Time  Slot No         Status  week_num  \\\n",
       "0  25/06/2021   9:38:55 PM  10:39:00 PM        3  Not Available        26   \n",
       "1  25/06/2021   9:40:55 PM  12:39:02 AM        5  Not Available        26   \n",
       "2  25/06/2021  10:40:55 PM  12:44:35 AM        3  Not Available        26   \n",
       "3  25/06/2021   7:44:29 PM  12:44:35 AM        3  Not Available        26   \n",
       "4  25/06/2021   7:48:32 PM  12:44:38 AM        5  Not Available        26   \n",
       "\n",
       "   Month  Hour  \n",
       "0      6    21  \n",
       "1      6    21  \n",
       "2      6    22  \n",
       "3      6    19  \n",
       "4      6    19  "
      ]
     },
     "execution_count": 3,
     "metadata": {},
     "output_type": "execute_result"
    }
   ],
   "source": [
    "filename = 'slots_data.csv'\n",
    "df = pd.read_csv(filename)\n",
    "df.head()"
   ]
  },
  {
   "cell_type": "code",
   "execution_count": 4,
   "id": "57fc20d1",
   "metadata": {},
   "outputs": [
    {
     "data": {
      "text/html": [
       "<div>\n",
       "<style scoped>\n",
       "    .dataframe tbody tr th:only-of-type {\n",
       "        vertical-align: middle;\n",
       "    }\n",
       "\n",
       "    .dataframe tbody tr th {\n",
       "        vertical-align: top;\n",
       "    }\n",
       "\n",
       "    .dataframe thead th {\n",
       "        text-align: right;\n",
       "    }\n",
       "</style>\n",
       "<table border=\"1\" class=\"dataframe\">\n",
       "  <thead>\n",
       "    <tr style=\"text-align: right;\">\n",
       "      <th></th>\n",
       "      <th>Slot No</th>\n",
       "      <th>Date</th>\n",
       "    </tr>\n",
       "  </thead>\n",
       "  <tbody>\n",
       "    <tr>\n",
       "      <th>0</th>\n",
       "      <td>3</td>\n",
       "      <td>25/06/2021</td>\n",
       "    </tr>\n",
       "    <tr>\n",
       "      <th>1</th>\n",
       "      <td>5</td>\n",
       "      <td>25/06/2021</td>\n",
       "    </tr>\n",
       "    <tr>\n",
       "      <th>2</th>\n",
       "      <td>3</td>\n",
       "      <td>25/06/2021</td>\n",
       "    </tr>\n",
       "    <tr>\n",
       "      <th>3</th>\n",
       "      <td>3</td>\n",
       "      <td>25/06/2021</td>\n",
       "    </tr>\n",
       "    <tr>\n",
       "      <th>4</th>\n",
       "      <td>5</td>\n",
       "      <td>25/06/2021</td>\n",
       "    </tr>\n",
       "  </tbody>\n",
       "</table>\n",
       "</div>"
      ],
      "text/plain": [
       "   Slot No        Date\n",
       "0        3  25/06/2021\n",
       "1        5  25/06/2021\n",
       "2        3  25/06/2021\n",
       "3        3  25/06/2021\n",
       "4        5  25/06/2021"
      ]
     },
     "execution_count": 4,
     "metadata": {},
     "output_type": "execute_result"
    }
   ],
   "source": [
    "#for week vise analysis\n",
    "slice1=df[['Slot No','Date']]\n",
    "slice1.head()"
   ]
  },
  {
   "cell_type": "code",
   "execution_count": 5,
   "id": "0d16e024",
   "metadata": {},
   "outputs": [
    {
     "name": "stdout",
     "output_type": "stream",
     "text": [
      "24/08/2021    94\n",
      "25/08/2021    20\n",
      "23/08/2021    11\n",
      "26/08/2021    10\n",
      "30/06/2021     6\n",
      "28/06/2021     6\n",
      "25/07/2021     5\n",
      "23/07/2021     5\n",
      "25/06/2021     5\n",
      "06/07/2021     4\n",
      "21/07/2021     4\n",
      "07/07/2021     4\n",
      "19/07/2021     4\n",
      "01/07/2021     4\n",
      "26/06/2021     4\n",
      "24/07/2021     4\n",
      "28/07/2021     3\n",
      "22/08/2021     3\n",
      "08/07/2021     3\n",
      "29/06/2021     3\n",
      "29/07/2021     3\n",
      "26/07/2021     2\n",
      "27/06/2021     2\n",
      "Name: Date, dtype: int64\n"
     ]
    },
    {
     "data": {
      "image/png": "[encoded data removed]",
      "text/plain": [
       "<Figure size 432x288 with 1 Axes>"
      ]
     },
     "metadata": {
      "needs_background": "light"
     },
     "output_type": "display_data"
    }
   ],
   "source": [
    "#my_dates.sort(key=lambda date: datetime.strptime(date, \"%d/-%b-%y\"))\n",
    "\n",
    "y=slice1['Date'].value_counts()\n",
    "\n",
    "y.sort_index(ascending=False).plot(kind='bar')\n",
    "print(y)\n",
    "#y.plot(kind='bar')\n",
    "plt.title('No of Total Parking in Each Date')\n",
    "plt.xlabel('Date')\n",
    "plt.ylabel('Total Parking')\n",
    "plt.show()"
   ]
  },
  {
   "cell_type": "code",
   "execution_count": 6,
   "id": "8c366455",
   "metadata": {},
   "outputs": [
    {
     "data": {
      "text/html": [
       "<div>\n",
       "<style scoped>\n",
       "    .dataframe tbody tr th:only-of-type {\n",
       "        vertical-align: middle;\n",
       "    }\n",
       "\n",
       "    .dataframe tbody tr th {\n",
       "        vertical-align: top;\n",
       "    }\n",
       "\n",
       "    .dataframe thead th {\n",
       "        text-align: right;\n",
       "    }\n",
       "</style>\n",
       "<table border=\"1\" class=\"dataframe\">\n",
       "  <thead>\n",
       "    <tr style=\"text-align: right;\">\n",
       "      <th></th>\n",
       "      <th>week_num</th>\n",
       "    </tr>\n",
       "  </thead>\n",
       "  <tbody>\n",
       "    <tr>\n",
       "      <th>0</th>\n",
       "      <td>26</td>\n",
       "    </tr>\n",
       "    <tr>\n",
       "      <th>1</th>\n",
       "      <td>26</td>\n",
       "    </tr>\n",
       "    <tr>\n",
       "      <th>2</th>\n",
       "      <td>26</td>\n",
       "    </tr>\n",
       "    <tr>\n",
       "      <th>3</th>\n",
       "      <td>26</td>\n",
       "    </tr>\n",
       "    <tr>\n",
       "      <th>4</th>\n",
       "      <td>26</td>\n",
       "    </tr>\n",
       "  </tbody>\n",
       "</table>\n",
       "</div>"
      ],
      "text/plain": [
       "   week_num\n",
       "0        26\n",
       "1        26\n",
       "2        26\n",
       "3        26\n",
       "4        26"
      ]
     },
     "execution_count": 6,
     "metadata": {},
     "output_type": "execute_result"
    }
   ],
   "source": [
    "slice2=df[['week_num']]\n",
    "slice2.head()"
   ]
  },
  {
   "cell_type": "code",
   "execution_count": 7,
   "id": "64600824",
   "metadata": {},
   "outputs": [
    {
     "name": "stdout",
     "output_type": "stream",
     "text": [
      "26      9\n",
      "28     11\n",
      "31     13\n",
      "30     17\n",
      "27     21\n",
      "35    138\n",
      "Name: week_num, dtype: int64\n"
     ]
    },
    {
     "data": {
      "image/png": "[encoded data removed]",
      "text/plain": [
       "<Figure size 432x288 with 1 Axes>"
      ]
     },
     "metadata": {
      "needs_background": "light"
     },
     "output_type": "display_data"
    }
   ],
   "source": [
    "#for week vise analysis\n",
    "y=slice2['week_num'].value_counts()\n",
    "y = y.sort_values()\n",
    "print(y)\n",
    "y.sort_index(ascending=True).plot(kind='bar')\n",
    "#y.plot(kind='bar')\n",
    "plt.title('No of Total Parking in Each Week')\n",
    "plt.xlabel('Week_num')\n",
    "plt.ylabel('Total Parking')\n",
    "plt.show()"
   ]
  },
  {
   "cell_type": "code",
   "execution_count": 8,
   "id": "b83e46c8",
   "metadata": {},
   "outputs": [
    {
     "name": "stdout",
     "output_type": "stream",
     "text": [
      "8    138\n",
      "7     45\n",
      "6     26\n",
      "Name: Month, dtype: int64\n"
     ]
    },
    {
     "data": {
      "image/png": "[encoded data removed]",
      "text/plain": [
       "<Figure size 432x288 with 1 Axes>"
      ]
     },
     "metadata": {
      "needs_background": "light"
     },
     "output_type": "display_data"
    }
   ],
   "source": [
    "#for Month vise analysis\n",
    "slice3=df[['Month']]\n",
    "slice3.head()\n",
    "y=slice3['Month'].value_counts()\n",
    "y.sort_index(ascending=True).plot(kind='bar')\n",
    "print(y)\n",
    "#y.plot(kind='bar')\n",
    "plt.title('No of Total Parking in Each Month')\n",
    "plt.xlabel('Month_Number')\n",
    "plt.ylabel('Total Parking')\n",
    "plt.show()"
   ]
  },
  {
   "cell_type": "code",
   "execution_count": 9,
   "id": "37df1e5d",
   "metadata": {},
   "outputs": [
    {
     "name": "stdout",
     "output_type": "stream",
     "text": [
      "16    129\n",
      "20     21\n",
      "17     15\n",
      "19     13\n",
      "22      9\n",
      "21      7\n",
      "18      6\n",
      "10      3\n",
      "11      2\n",
      "7       1\n",
      "9       1\n",
      "14      1\n",
      "15      1\n",
      "Name: Hour, dtype: int64\n"
     ]
    },
    {
     "data": {
      "image/png": "[encoded data removed]",
      "text/plain": [
       "<Figure size 432x288 with 1 Axes>"
      ]
     },
     "metadata": {
      "needs_background": "light"
     },
     "output_type": "display_data"
    }
   ],
   "source": [
    "#for Hour vise analysis\n",
    "slice4=df[['Hour']]\n",
    "slice4.head()\n",
    "y=slice4['Hour'].value_counts()\n",
    "y.sort_index(ascending=True).plot(kind='bar')\n",
    "print(y)\n",
    "#y.plot(kind='bar')\n",
    "plt.title('No of Total Parking in Each Hour')\n",
    "plt.xlabel('Hours_Number')\n",
    "plt.ylabel('Total Parking')\n",
    "plt.show()"
   ]
  },
  {
   "cell_type": "code",
   "execution_count": null,
   "id": "d73e58db",
   "metadata": {},
   "outputs": [],
   "source": []
  },
  {
   "cell_type": "code",
   "execution_count": null,
   "id": "643a7690",
   "metadata": {},
   "outputs": [],
   "source": []
  }
 ],
 "metadata": {
  "kernelspec": {
   "display_name": "Python 3",
   "language": "python",
   "name": "python3"
  },
  "language_info": {
   "codemirror_mode": {
    "name": "ipython",
    "version": 3
   },
   "file_extension": ".py",
   "mimetype": "text/x-python",
   "name": "python",
   "nbconvert_exporter": "python",
   "pygments_lexer": "ipython3",
   "version": "3.8.8"
  }
 },
 "nbformat": 4,
 "nbformat_minor": 5
}
